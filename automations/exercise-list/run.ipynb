{
 "cells": [
  {
   "cell_type": "code",
   "execution_count": 5,
   "id": "c031a0b1-fc36-41c5-b94b-6cb8e2ab53de",
   "metadata": {},
   "outputs": [
    {
     "ename": "FileNotFoundError",
     "evalue": "[Errno 2] No such file or directory: 'batches/standard/input/variables.dictionary'",
     "output_type": "error",
     "traceback": [
      "\u001b[0;31m---------------------------------------------------------------------------\u001b[0m",
      "\u001b[0;31mFileNotFoundError\u001b[0m                         Traceback (most recent call last)",
      "Input \u001b[0;32mIn [5]\u001b[0m, in \u001b[0;36m<cell line: 10>\u001b[0;34m()\u001b[0m\n\u001b[1;32m      7\u001b[0m input_path \u001b[38;5;241m=\u001b[39m join(input_folder, \u001b[38;5;124m\"\u001b[39m\u001b[38;5;124mvariables.dictionary\u001b[39m\u001b[38;5;124m\"\u001b[39m)\n\u001b[1;32m      8\u001b[0m output_path \u001b[38;5;241m=\u001b[39m join(output_folder, \u001b[38;5;124m\"\u001b[39m\u001b[38;5;124mvariables.dictionary\u001b[39m\u001b[38;5;124m\"\u001b[39m)\n\u001b[0;32m---> 10\u001b[0m value_by_key \u001b[38;5;241m=\u001b[39m json\u001b[38;5;241m.\u001b[39mload(\u001b[38;5;28;43mopen\u001b[39;49m\u001b[43m(\u001b[49m\u001b[43minput_path\u001b[49m\u001b[43m,\u001b[49m\u001b[43m \u001b[49m\u001b[38;5;124;43m'\u001b[39;49m\u001b[38;5;124;43mrt\u001b[39;49m\u001b[38;5;124;43m'\u001b[39;49m\u001b[43m)\u001b[49m)\n",
      "\u001b[0;31mFileNotFoundError\u001b[0m: [Errno 2] No such file or directory: 'batches/standard/input/variables.dictionary'"
     ]
    }
   ],
   "source": [
    "from os.path import join\n",
    "from os import environ\n",
    "import json\n",
    "\n",
    "input_folder = environ.get(\"CROSSCOMPUE_INPUT_FOLDER\", \"batches/standard/input\")\n",
    "output_folder = environ.get(\"CROSSCOMPUTE_OUTPUT_FOLDER\", \"batches/standard/output\")\n",
    "\n",
    "input_path = join(input_folder, \"variables.dictionary\")\n",
    "output_path = join(output_folder, \"exercises.json\")\n",
    "\n",
    "value_by_key = json.load(open(input_path, 'rt'))\n",
    "print(value_by_key)"
   ]
  },
  {
   "cell_type": "code",
   "execution_count": 6,
   "id": "6904313b-921f-423a-b6a1-99837d88e576",
   "metadata": {},
   "outputs": [
    {
     "data": {
      "text/plain": [
       "{'name': 'Wall Roll Down',\n",
       " 'alias': [],\n",
       " 'target': {'Hamstrings': 'stretch',\n",
       "  'Spinal Erectors': 'stretch',\n",
       "  'Hip Flexors': 'stretch',\n",
       "  'Shoulders': 'stretch',\n",
       "  'Neck': 'stretch'},\n",
       " 'steps': ['Stand with your back against a wall and your feet shoulder-width apart.',\n",
       "  'Slowly lower your chin towards your chest, keeping your shoulders relaxed and your back against the wall.',\n",
       "  'As you continue to lower your chin towards your chest, slowly roll your spine down the wall, one vertebra at a time, until your entire back is flat against the wall and your chin is tucked in.',\n",
       "  'Hold this position for a few seconds, feeling the stretch in your back and neck.',\n",
       "  'Slowly roll your spine back up the wall, one vertebra at a time, until you are standing straight again with your chin level.'],\n",
       " 'stages': ['warm-up', 'cool-down'],\n",
       " 'purpose': ['flexibility', 'posture', 'reduce tightness'],\n",
       " 'recommendations': {'time_by_round': 0,\n",
       "  'relax_by_rep': 0,\n",
       "  'by_side': False,\n",
       "  'repetitions': 10,\n",
       "  'series': 3,\n",
       "  'frequency': 'daily',\n",
       "  'period': '15 days'},\n",
       " 'restrictions': {'age': {}, 'ailing': {}},\n",
       " 'comments': ['Make sure to move slowly and smoothly, and focusing on the stretch in your back and neck'],\n",
       " 'variations': []}"
      ]
     },
     "execution_count": 6,
     "metadata": {},
     "output_type": "execute_result"
    }
   ],
   "source": [
    "import glob\n",
    "import json\n",
    "\n",
    "paths = glob.glob(\"datasets/exercises/*.json\")\n",
    "\n",
    "json_array_data = []\n",
    "\n",
    "for file_path in paths:\n",
    "    with open(file_path) as file:\n",
    "        json_data = json.load(file)\n",
    "        json_array_data.append(json_data)\n",
    "        \n",
    "json_array_data[1]"
   ]
  },
  {
   "cell_type": "code",
   "execution_count": 7,
   "id": "6deeb9d2-a864-46dd-a1dc-f55d5814d1de",
   "metadata": {},
   "outputs": [],
   "source": [
    "from cog.torque import Graph\n",
    "\n",
    "g = Graph(\"exercise\")\n",
    "\n",
    "for exercise in json_array_data:\n",
    "    name = exercise['name']\n",
    "    for body_part, action in exercise[\"target\"].items():\n",
    "        g.put(name, action, body_part)"
   ]
  },
  {
   "cell_type": "code",
   "execution_count": 10,
   "id": "52a516c8-d2b1-46c0-bc66-3d8a17e69a45",
   "metadata": {},
   "outputs": [],
   "source": [
    "json.dump(json_array_data, open(output_path, 'wt'), indent=4)"
   ]
  },
  {
   "cell_type": "code",
   "execution_count": null,
   "id": "225a7a92-3b5e-4258-adec-9833cfbaa6d8",
   "metadata": {},
   "outputs": [],
   "source": []
  }
 ],
 "metadata": {
  "kernelspec": {
   "display_name": "Python 3 (ipykernel)",
   "language": "python",
   "name": "python3"
  },
  "language_info": {
   "codemirror_mode": {
    "name": "ipython",
    "version": 3
   },
   "file_extension": ".py",
   "mimetype": "text/x-python",
   "name": "python",
   "nbconvert_exporter": "python",
   "pygments_lexer": "ipython3",
   "version": "3.10.8"
  }
 },
 "nbformat": 4,
 "nbformat_minor": 5
}
